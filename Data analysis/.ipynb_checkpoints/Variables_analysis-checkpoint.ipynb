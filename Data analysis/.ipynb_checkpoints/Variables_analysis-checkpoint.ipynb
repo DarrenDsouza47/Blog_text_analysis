{
 "cells": [
  {
   "cell_type": "code",
   "execution_count": 2,
   "metadata": {},
   "outputs": [
    {
     "name": "stdout",
     "output_type": "stream",
     "text": [
      "Collecting pyphen\n",
      "  Using cached pyphen-0.14.0-py3-none-any.whl (2.0 MB)\n",
      "Installing collected packages: pyphen\n",
      "Successfully installed pyphen-0.14.0\n",
      "Note: you may need to restart the kernel to use updated packages.\n"
     ]
    }
   ],
   "source": [
    "pip install pyphen"
   ]
  },
  {
   "cell_type": "code",
   "execution_count": 3,
   "metadata": {},
   "outputs": [
    {
     "name": "stderr",
     "output_type": "stream",
     "text": [
      "[nltk_data] Downloading package stopwords to\n",
      "[nltk_data]     C:\\Users\\darre\\AppData\\Roaming\\nltk_data...\n",
      "[nltk_data]   Package stopwords is already up-to-date!\n"
     ]
    }
   ],
   "source": [
    "import pandas as pd\n",
    "import os\n",
    "import string\n",
    "from nltk.corpus import stopwords\n",
    "import nltk\n",
    "nltk.download('stopwords')\n",
    "from nltk.tokenize import word_tokenize,sent_tokenize\n",
    "import numpy as np\n",
    "import pyphen\n",
    "import re"
   ]
  },
  {
   "cell_type": "code",
   "execution_count": 2,
   "metadata": {},
   "outputs": [],
   "source": [
    "output_file='Output Data Structure.xlsx'"
   ]
  },
  {
   "cell_type": "code",
   "execution_count": 4,
   "metadata": {},
   "outputs": [
    {
     "data": {
      "text/html": [
       "<div>\n",
       "<style scoped>\n",
       "    .dataframe tbody tr th:only-of-type {\n",
       "        vertical-align: middle;\n",
       "    }\n",
       "\n",
       "    .dataframe tbody tr th {\n",
       "        vertical-align: top;\n",
       "    }\n",
       "\n",
       "    .dataframe thead th {\n",
       "        text-align: right;\n",
       "    }\n",
       "</style>\n",
       "<table border=\"1\" class=\"dataframe\">\n",
       "  <thead>\n",
       "    <tr style=\"text-align: right;\">\n",
       "      <th></th>\n",
       "      <th>URL_ID</th>\n",
       "      <th>URL</th>\n",
       "      <th>POSITIVE SCORE</th>\n",
       "      <th>NEGATIVE SCORE</th>\n",
       "      <th>POLARITY SCORE</th>\n",
       "      <th>SUBJECTIVITY SCORE</th>\n",
       "      <th>AVG SENTENCE LENGTH</th>\n",
       "      <th>PERCENTAGE OF COMPLEX WORDS</th>\n",
       "      <th>FOG INDEX</th>\n",
       "      <th>AVG NUMBER OF WORDS PER SENTENCE</th>\n",
       "      <th>COMPLEX WORD COUNT</th>\n",
       "      <th>WORD COUNT</th>\n",
       "      <th>SYLLABLE PER WORD</th>\n",
       "      <th>PERSONAL PRONOUNS</th>\n",
       "      <th>AVG WORD LENGTH</th>\n",
       "    </tr>\n",
       "  </thead>\n",
       "  <tbody>\n",
       "    <tr>\n",
       "      <th>0</th>\n",
       "      <td>123.0</td>\n",
       "      <td>https://insights.blackcoffer.com/rise-of-telem...</td>\n",
       "      <td>45</td>\n",
       "      <td>23</td>\n",
       "      <td>NaN</td>\n",
       "      <td>NaN</td>\n",
       "      <td>NaN</td>\n",
       "      <td>NaN</td>\n",
       "      <td>NaN</td>\n",
       "      <td>NaN</td>\n",
       "      <td>NaN</td>\n",
       "      <td>NaN</td>\n",
       "      <td>NaN</td>\n",
       "      <td>NaN</td>\n",
       "      <td>NaN</td>\n",
       "    </tr>\n",
       "    <tr>\n",
       "      <th>1</th>\n",
       "      <td>321.0</td>\n",
       "      <td>https://insights.blackcoffer.com/rise-of-e-hea...</td>\n",
       "      <td>38</td>\n",
       "      <td>22</td>\n",
       "      <td>NaN</td>\n",
       "      <td>NaN</td>\n",
       "      <td>NaN</td>\n",
       "      <td>NaN</td>\n",
       "      <td>NaN</td>\n",
       "      <td>NaN</td>\n",
       "      <td>NaN</td>\n",
       "      <td>NaN</td>\n",
       "      <td>NaN</td>\n",
       "      <td>NaN</td>\n",
       "      <td>NaN</td>\n",
       "    </tr>\n",
       "    <tr>\n",
       "      <th>2</th>\n",
       "      <td>2345.0</td>\n",
       "      <td>https://insights.blackcoffer.com/rise-of-e-hea...</td>\n",
       "      <td>15</td>\n",
       "      <td>7</td>\n",
       "      <td>NaN</td>\n",
       "      <td>NaN</td>\n",
       "      <td>NaN</td>\n",
       "      <td>NaN</td>\n",
       "      <td>NaN</td>\n",
       "      <td>NaN</td>\n",
       "      <td>NaN</td>\n",
       "      <td>NaN</td>\n",
       "      <td>NaN</td>\n",
       "      <td>NaN</td>\n",
       "      <td>NaN</td>\n",
       "    </tr>\n",
       "    <tr>\n",
       "      <th>3</th>\n",
       "      <td>4321.0</td>\n",
       "      <td>https://insights.blackcoffer.com/rise-of-telem...</td>\n",
       "      <td>15</td>\n",
       "      <td>7</td>\n",
       "      <td>NaN</td>\n",
       "      <td>NaN</td>\n",
       "      <td>NaN</td>\n",
       "      <td>NaN</td>\n",
       "      <td>NaN</td>\n",
       "      <td>NaN</td>\n",
       "      <td>NaN</td>\n",
       "      <td>NaN</td>\n",
       "      <td>NaN</td>\n",
       "      <td>NaN</td>\n",
       "      <td>NaN</td>\n",
       "    </tr>\n",
       "    <tr>\n",
       "      <th>4</th>\n",
       "      <td>432.0</td>\n",
       "      <td>https://insights.blackcoffer.com/rise-of-telem...</td>\n",
       "      <td>33</td>\n",
       "      <td>13</td>\n",
       "      <td>NaN</td>\n",
       "      <td>NaN</td>\n",
       "      <td>NaN</td>\n",
       "      <td>NaN</td>\n",
       "      <td>NaN</td>\n",
       "      <td>NaN</td>\n",
       "      <td>NaN</td>\n",
       "      <td>NaN</td>\n",
       "      <td>NaN</td>\n",
       "      <td>NaN</td>\n",
       "      <td>NaN</td>\n",
       "    </tr>\n",
       "  </tbody>\n",
       "</table>\n",
       "</div>"
      ],
      "text/plain": [
       "   URL_ID                                                URL  POSITIVE SCORE  \\\n",
       "0   123.0  https://insights.blackcoffer.com/rise-of-telem...              45   \n",
       "1   321.0  https://insights.blackcoffer.com/rise-of-e-hea...              38   \n",
       "2  2345.0  https://insights.blackcoffer.com/rise-of-e-hea...              15   \n",
       "3  4321.0  https://insights.blackcoffer.com/rise-of-telem...              15   \n",
       "4   432.0  https://insights.blackcoffer.com/rise-of-telem...              33   \n",
       "\n",
       "   NEGATIVE SCORE  POLARITY SCORE  SUBJECTIVITY SCORE  AVG SENTENCE LENGTH  \\\n",
       "0              23             NaN                 NaN                  NaN   \n",
       "1              22             NaN                 NaN                  NaN   \n",
       "2               7             NaN                 NaN                  NaN   \n",
       "3               7             NaN                 NaN                  NaN   \n",
       "4              13             NaN                 NaN                  NaN   \n",
       "\n",
       "   PERCENTAGE OF COMPLEX WORDS  FOG INDEX  AVG NUMBER OF WORDS PER SENTENCE  \\\n",
       "0                          NaN        NaN                               NaN   \n",
       "1                          NaN        NaN                               NaN   \n",
       "2                          NaN        NaN                               NaN   \n",
       "3                          NaN        NaN                               NaN   \n",
       "4                          NaN        NaN                               NaN   \n",
       "\n",
       "   COMPLEX WORD COUNT  WORD COUNT  SYLLABLE PER WORD  PERSONAL PRONOUNS  \\\n",
       "0                 NaN         NaN                NaN                NaN   \n",
       "1                 NaN         NaN                NaN                NaN   \n",
       "2                 NaN         NaN                NaN                NaN   \n",
       "3                 NaN         NaN                NaN                NaN   \n",
       "4                 NaN         NaN                NaN                NaN   \n",
       "\n",
       "   AVG WORD LENGTH  \n",
       "0              NaN  \n",
       "1              NaN  \n",
       "2              NaN  \n",
       "3              NaN  \n",
       "4              NaN  "
      ]
     },
     "execution_count": 4,
     "metadata": {},
     "output_type": "execute_result"
    }
   ],
   "source": [
    "df.head()"
   ]
  },
  {
   "cell_type": "code",
   "execution_count": 17,
   "metadata": {},
   "outputs": [],
   "source": [
    "def count_syllables(word):\n",
    "    if word.endswith(('es', 'ed')):\n",
    "        return 0\n",
    "    vowels='aeiou'\n",
    "    syllables=0\n",
    "    for char in word:\n",
    "        if char.lower() in vowels:\n",
    "            syllables+=1\n",
    "    return syllables"
   ]
  },
  {
   "cell_type": "markdown",
   "metadata": {},
   "source": [
    "# total cleaned words,length of sentences,complex word count"
   ]
  },
  {
   "cell_type": "code",
   "execution_count": 33,
   "metadata": {},
   "outputs": [],
   "source": [
    "extracted_files='../Data extraction/Extracted_files'\n",
    "total_cleaned_words=[]\n",
    "length_of_sentences=[]\n",
    "complex_words_count=[]\n",
    "syllables_count=[]\n",
    "for filename in os.listdir(extracted_files):\n",
    "    with open(os.path.join(extracted_files, filename), 'r', encoding='utf-8') as file:\n",
    "        lines=file.readlines()\n",
    "        article_text=''.join(lines[2:])\n",
    "        \n",
    "        words=nltk.word_tokenize(article_text)\n",
    "        puncs_removed=[word for word in words if word not in string.punctuation]\n",
    "        stop_words=stopwords.words('english')\n",
    "        filtered_text=[word for word in puncs_removed if word.lower() not in stop_words]\n",
    "        \n",
    "        total_cleaned_words.append(len(filtered_text))\n",
    "        \n",
    "        complex_words_count.append(sum([1 for word in filtered_text if count_syllables(word) > 2]))\n",
    "        syllables_count.append(sum([count_syllables(word) for word in filtered_text]))\n",
    "        \n",
    "        sentences = sent_tokenize(article_text)\n",
    "        length_of_sentences.append(len(sentences))\n",
    "        \n",
    "        \n",
    "        \n",
    "        \n",
    "        "
   ]
  },
  {
   "cell_type": "code",
   "execution_count": 34,
   "metadata": {},
   "outputs": [
    {
     "data": {
      "text/plain": [
       "array([ 980,  596,  303,  303,  396,  999, 1222, 1137,  684,  758,  845,\n",
       "        897,  299,  945,  422,  412,  102,  102,  774,  397,  988,  371,\n",
       "        224,  461,  283,  186,   90,  422,   96,  406,  630,   74,  175,\n",
       "        989,  896,  828,  360,  679,  237,  955,  517,  578,  593,  663,\n",
       "        626,  532,  364,  154,  432,  695, 2266,  327,  929,  909,   74,\n",
       "        650,  493,  916,  985,  610, 1030,  549,  626,  601,  773,   98,\n",
       "        955,  614,  377,  651,  527,   92,  312,  529,  324,  637,  564,\n",
       "        271,  603,  759,  759,  456,  871,  931,  473, 1010,  626,  202,\n",
       "       1333,  759,  619, 1018, 1043,  580, 1025,  475,  759,  152,  292,\n",
       "       1111, 1012,  208,  789,  418,  766,  328,  611,    0,  715,  657,\n",
       "       1148,  768,  996,  882])"
      ]
     },
     "execution_count": 34,
     "metadata": {},
     "output_type": "execute_result"
    }
   ],
   "source": [
    "total_cleaned_words=np.array(total_cleaned_words)\n",
    "total_cleaned_words"
   ]
  },
  {
   "cell_type": "markdown",
   "metadata": {},
   "source": [
    "# Polarity score and subjectivity score"
   ]
  },
  {
   "cell_type": "code",
   "execution_count": 35,
   "metadata": {},
   "outputs": [
    {
     "data": {
      "text/plain": [
       "0      0.069388\n",
       "1      0.100671\n",
       "2      0.072607\n",
       "3      0.072607\n",
       "4      0.116162\n",
       "         ...   \n",
       "109    0.079148\n",
       "110    0.081010\n",
       "111    0.118490\n",
       "112    0.097390\n",
       "113    0.086168\n",
       "Length: 114, dtype: float64"
      ]
     },
     "execution_count": 35,
     "metadata": {},
     "output_type": "execute_result"
    }
   ],
   "source": [
    "positive_score=df['POSITIVE SCORE']\n",
    "negative_score=df['NEGATIVE SCORE']\n",
    "\n",
    "Polarity_score=(positive_score-negative_score)/((positive_score+negative_score)+0.000001)\n",
    "Polarity_score\n",
    "\n",
    "Subjectivity_Score = (positive_score + negative_score)/ ((total_cleaned_words) + 0.000001)\n",
    "Subjectivity_Score"
   ]
  },
  {
   "cell_type": "markdown",
   "metadata": {},
   "source": [
    "# Analysis of readability"
   ]
  },
  {
   "cell_type": "code",
   "execution_count": 36,
   "metadata": {},
   "outputs": [],
   "source": [
    "number_of_words=total_cleaned_words\n",
    "number_of_sentences=length_of_sentences"
   ]
  },
  {
   "cell_type": "code",
   "execution_count": 37,
   "metadata": {},
   "outputs": [
    {
     "name": "stderr",
     "output_type": "stream",
     "text": [
      "<ipython-input-37-cec0eeb9fff6>:1: RuntimeWarning: invalid value encountered in divide\n",
      "  average_words_per_sentence=np.array(number_of_words)/np.array(number_of_sentences)\n"
     ]
    }
   ],
   "source": [
    "average_words_per_sentence=np.array(number_of_words)/np.array(number_of_sentences)"
   ]
  },
  {
   "cell_type": "code",
   "execution_count": 38,
   "metadata": {},
   "outputs": [
    {
     "data": {
      "text/plain": [
       "array([ 12.89473684,  12.41666667,   8.41666667,   8.41666667,\n",
       "        11.31428571,  12.64556962,  15.275     ,  12.63333333,\n",
       "        12.        ,   9.475     ,  14.08333333,  11.2125    ,\n",
       "        14.23809524, 118.125     ,   9.37777778,  10.3       ,\n",
       "        17.        ,  17.        ,  14.07272727,  14.17857143,\n",
       "         9.06422018,   8.62790698,  14.        ,  13.55882353,\n",
       "        14.89473684,   6.88888889,   9.        ,   7.67272727,\n",
       "        10.66666667,  13.09677419,   9.26470588,  14.8       ,\n",
       "         8.33333333,  13.54794521,  13.17647059,  10.22222222,\n",
       "         6.42857143,  10.44615385,  14.8125    ,  13.84057971,\n",
       "         6.80263158,   7.60526316,  13.79069767,  10.69354839,\n",
       "        10.43333333,   7.38888889,  12.55172414,  14.        ,\n",
       "        18.        ,  12.41071429,  11.68041237,  13.625     ,\n",
       "        11.32926829,  15.40677966,  10.57142857,  14.77272727,\n",
       "        12.97368421,   7.69747899,  10.94444444,  13.26086957,\n",
       "        17.16666667,  11.4375    ,   8.57534247,  16.24324324,\n",
       "        13.80357143,   9.8       ,  10.15957447,  10.40677966,\n",
       "        11.08823529,  13.02      ,  14.24324324,  18.4       ,\n",
       "        11.55555556,  17.63333333,  11.17241379,  13.84782609,\n",
       "        10.84615385,  10.84      ,  11.59615385,  12.86440678,\n",
       "        12.86440678,  13.41176471,  12.62318841,  15.51666667,\n",
       "        47.3       ,  15.3030303 ,   8.12987013,  13.46666667,\n",
       "        15.32183908,  12.04761905,  12.63265306,  11.97647059,\n",
       "        13.90666667,  11.83673469,  16.26984127,  14.84375   ,\n",
       "        14.05555556,  10.13333333,  13.9047619 ,  22.67346939,\n",
       "        14.45714286,   8.        ,  13.37288136,  15.48148148,\n",
       "        12.15873016,  16.4       ,  24.44      ,          nan,\n",
       "        13.75      ,  17.28947368,  15.30666667,   9.72151899,\n",
       "        11.85714286,   9.69230769])"
      ]
     },
     "execution_count": 38,
     "metadata": {},
     "output_type": "execute_result"
    }
   ],
   "source": [
    "average_words_per_sentence"
   ]
  },
  {
   "cell_type": "code",
   "execution_count": 22,
   "metadata": {},
   "outputs": [
    {
     "data": {
      "text/plain": [
       "114"
      ]
     },
     "execution_count": 22,
     "metadata": {},
     "output_type": "execute_result"
    }
   ],
   "source": [
    "len(average_words_per_sentence)"
   ]
  },
  {
   "cell_type": "markdown",
   "metadata": {},
   "source": [
    "# Percentage of Complex words = the number of complex words / the number of words "
   ]
  },
  {
   "cell_type": "code",
   "execution_count": 39,
   "metadata": {},
   "outputs": [
    {
     "name": "stderr",
     "output_type": "stream",
     "text": [
      "<ipython-input-39-724751576a7c>:1: RuntimeWarning: invalid value encountered in divide\n",
      "  Percent_of_complex_words=np.array(complex_words_count)/np.array(number_of_words)\n"
     ]
    }
   ],
   "source": [
    "Percent_of_complex_words=np.array(complex_words_count)/np.array(number_of_words)"
   ]
  },
  {
   "cell_type": "code",
   "execution_count": 33,
   "metadata": {},
   "outputs": [
    {
     "data": {
      "text/plain": [
       "114"
      ]
     },
     "execution_count": 33,
     "metadata": {},
     "output_type": "execute_result"
    }
   ],
   "source": [
    "len(Percent_of_complex_words)"
   ]
  },
  {
   "cell_type": "markdown",
   "metadata": {},
   "source": [
    "# Fog Index = 0.4 * (Average Sentence Length + Percentage of Complex words)"
   ]
  },
  {
   "cell_type": "code",
   "execution_count": 40,
   "metadata": {},
   "outputs": [],
   "source": [
    "Fog_Index = 0.4 * (average_words_per_sentence + Percent_of_complex_words)"
   ]
  },
  {
   "cell_type": "code",
   "execution_count": 35,
   "metadata": {},
   "outputs": [
    {
     "data": {
      "text/plain": [
       "array([ 5.25218045,  5.06196868,  3.45643564,  3.45643564,  4.59945166,\n",
       "        5.15352314,  6.20427169,  5.1440985 ,  4.91929825,  3.87970976,\n",
       "        5.72043393,  4.58488852,  5.80493709, 47.33719577,  3.86580305,\n",
       "        4.2568932 ,  6.90588235,  6.90588235,  5.717463  ,  5.77419935,\n",
       "        3.72730751,  3.55466683,  5.66964286,  5.49988516,  6.06955551,\n",
       "        2.84157706,  3.72      ,  3.14681603,  4.32916667,  5.34905451,\n",
       "        3.80492997,  6.00648649,  3.43847619,  5.55102844,  5.35540966,\n",
       "        4.16618357,  2.63809524,  4.26918319,  6.03976793,  5.63214811,\n",
       "        2.79764838,  3.10784921,  5.57766187,  4.38661996,  4.28834931,\n",
       "        3.03224728,  5.10530504,  5.69090909,  7.28888889,  5.04773895,\n",
       "        4.72882867,  5.58088685,  4.6195437 ,  6.27096269,  4.30965251,\n",
       "        6.02355245,  5.25438241,  3.17375142,  4.4663057 ,  5.37647897,\n",
       "        6.97152104,  4.66753188,  3.52023283,  6.59912758,  5.6140547 ,\n",
       "        3.98530612,  4.18110727,  4.23893336,  4.51486971,  5.3204424 ,\n",
       "        5.77775271,  7.46434783,  4.68119658,  7.15011972,  4.52081737,\n",
       "        5.62201897,  4.43420622,  4.42308487,  4.72469703,  5.24589446,\n",
       "        5.24589446,  5.45944272,  5.13056124,  6.2994701 , 18.96397463,\n",
       "        6.20636064,  3.32415252,  5.50349835,  6.22025851,  4.89072087,\n",
       "        5.18424055,  4.87153126,  5.64972323,  4.81952146,  6.61330236,\n",
       "        6.02423684,  5.71602986,  4.14807018,  5.64135682,  9.151836  ,\n",
       "        5.89036702,  3.3       ,  5.43584456,  6.31125288,  4.95174272,\n",
       "        6.66121951,  9.83753846,         nan,  5.56545455,  7.01685492,\n",
       "        6.23486179,  3.96881593,  4.85370052,  3.96898657])"
      ]
     },
     "execution_count": 35,
     "metadata": {},
     "output_type": "execute_result"
    }
   ],
   "source": [
    "Fog_Index"
   ]
  },
  {
   "cell_type": "markdown",
   "metadata": {},
   "source": [
    "# Personal Pronouns"
   ]
  },
  {
   "cell_type": "code",
   "execution_count": 26,
   "metadata": {},
   "outputs": [],
   "source": [
    "extracted_files='../Data extraction/Extracted_files'\n",
    "personal_pronouns=[]\n",
    "average_word_length=[]\n",
    "\n",
    "for filename in os.listdir(extracted_files):\n",
    "    with open(os.path.join(extracted_files, filename), 'r', encoding='utf-8') as file:\n",
    "        lines=file.readlines()\n",
    "        article_text=''.join(lines[2:])\n",
    "        pattern = re.compile(r'\\b(?:I|we|my|ours|us)\\b', flags=re.IGNORECASE)\n",
    "        matches = pattern.findall(article_text)\n",
    "        personal_pronouns.append(len(matches))\n",
    "        \n",
    "        words = article_text.split()\n",
    "        total_characters = sum(len(word) for word in words)\n",
    "        total_words = len(words)\n",
    "        average_word_length.append(total_characters / total_words if total_words > 0 else 0)\n",
    "        \n",
    "\n",
    "        "
   ]
  },
  {
   "cell_type": "code",
   "execution_count": 27,
   "metadata": {},
   "outputs": [
    {
     "data": {
      "text/plain": [
       "[5.220118343195266,\n",
       " 5.17867165575304,\n",
       " 5.121597096188748,\n",
       " 5.121597096188748,\n",
       " 4.929799426934097,\n",
       " 5.7061668681983075,\n",
       " 5.046554934823091,\n",
       " 5.3373297002724795,\n",
       " 5.530769230769231,\n",
       " 5.173985086992544,\n",
       " 4.908703590992087,\n",
       " 5.2616088947024195,\n",
       " 5.559118236472946,\n",
       " 4.810795770728992,\n",
       " 5.2241610738255035,\n",
       " 5.580599144079886,\n",
       " 5.520710059171598,\n",
       " 5.520710059171598,\n",
       " 5.214494875549049,\n",
       " 5.085553997194951,\n",
       " 4.961844197138315,\n",
       " 5.25193199381762,\n",
       " 5.095890410958904,\n",
       " 4.933915211970075,\n",
       " 5.404301075268817,\n",
       " 5.244031830238727,\n",
       " 5.444444444444445,\n",
       " 4.877346683354193,\n",
       " 4.738636363636363,\n",
       " 5.707898658718331,\n",
       " 5.419475655430712,\n",
       " 4.7172413793103445,\n",
       " 4.664879356568365,\n",
       " 5.495026331187829,\n",
       " 4.812751292360712,\n",
       " 4.991689750692521,\n",
       " 4.604244694132334,\n",
       " 4.677142857142857,\n",
       " 4.763557483731019,\n",
       " 5.26438962681847,\n",
       " 4.914110429447852,\n",
       " 4.64336917562724,\n",
       " 4.898221343873518,\n",
       " 5.628571428571429,\n",
       " 5.395891690009337,\n",
       " 4.937188434695912,\n",
       " 4.924924924924925,\n",
       " 4.996539792387543,\n",
       " 5.3743169398907105,\n",
       " 5.214463840399002,\n",
       " 5.004054445409788,\n",
       " 5.533333333333333,\n",
       " 5.075187969924812,\n",
       " 5.602459016393443,\n",
       " 4.652482269503546,\n",
       " 5.732313575525812,\n",
       " 5.111913357400722,\n",
       " 5.002208724461624,\n",
       " 5.118001204093919,\n",
       " 5.12,\n",
       " 5.353594389246055,\n",
       " 5.1571729957805905,\n",
       " 4.911666666666667,\n",
       " 5.036697247706422,\n",
       " 5.415883859948762,\n",
       " 4.590163934426229,\n",
       " 5.4170616113744074,\n",
       " 4.908340971585702,\n",
       " 5.168284789644013,\n",
       " 5.355535553555356,\n",
       " 4.799625468164794,\n",
       " 5.420289855072464,\n",
       " 4.857943925233645,\n",
       " 5.318429661941113,\n",
       " 4.232954545454546,\n",
       " 5.331067961165049,\n",
       " 5.399019607843138,\n",
       " 5.077669902912621,\n",
       " 5.46772591857001,\n",
       " 5.627773212818406,\n",
       " 5.627773212818406,\n",
       " 5.138149556400507,\n",
       " 4.949644932214332,\n",
       " 5.198396793587174,\n",
       " 4.317606444188723,\n",
       " 5.295953757225433,\n",
       " 4.611470113085622,\n",
       " 5.52887537993921,\n",
       " 5.336457357075914,\n",
       " 4.534255185417976,\n",
       " 5.717391304347826,\n",
       " 5.123376623376624,\n",
       " 5.117222222222222,\n",
       " 5.039039039039039,\n",
       " 5.29049972542559,\n",
       " 5.176470588235294,\n",
       " 5.273008507347255,\n",
       " 5.115384615384615,\n",
       " 5.339743589743589,\n",
       " 5.319711538461538,\n",
       " 5.433051869722557,\n",
       " 5.058679706601467,\n",
       " 5.423994038748137,\n",
       " 5.871406959152798,\n",
       " 5.104105571847508,\n",
       " 5.405109489051095,\n",
       " 4.909715407262022,\n",
       " 0,\n",
       " 4.755893536121673,\n",
       " 5.5009174311926605,\n",
       " 5.7969543147208125,\n",
       " 4.994289793004996,\n",
       " 5.527315914489312,\n",
       " 4.913098236775818]"
      ]
     },
     "execution_count": 27,
     "metadata": {},
     "output_type": "execute_result"
    }
   ],
   "source": [
    "average_word_length"
   ]
  },
  {
   "cell_type": "code",
   "execution_count": 42,
   "metadata": {},
   "outputs": [
    {
     "name": "stderr",
     "output_type": "stream",
     "text": [
      "<ipython-input-42-b475115aca23>:9: DeprecationWarning: In a future version, `df.iloc[:, i] = newvals` will attempt to set the values inplace instead of always setting a new array. To retain the old behavior, use either `df[df.columns[i]] = newvals` or, if columns are non-unique, `df.isetitem(i, newvals)`\n",
      "  df.iloc[0:,11]=total_cleaned_words\n"
     ]
    }
   ],
   "source": [
    "df=pd.read_excel(output_file)   \n",
    "df.iloc[0:,4]=Polarity_score\n",
    "df.iloc[0:,5]=Subjectivity_Score\n",
    "df.iloc[0:,6]=average_words_per_sentence\n",
    "df.iloc[0:,7]=Percent_of_complex_words\n",
    "df.iloc[0:,8]=Fog_Index\n",
    "df.iloc[0:,9]=average_words_per_sentence\n",
    "df.iloc[0:,10]=complex_words_count\n",
    "df.iloc[0:,11]=total_cleaned_words\n",
    "df.iloc[0:,12]=syllables_count\n",
    "df.iloc[0:,13]=personal_pronouns\n",
    "df.iloc[0:,14]=average_word_length\n",
    "        \n"
   ]
  },
  {
   "cell_type": "code",
   "execution_count": 43,
   "metadata": {},
   "outputs": [
    {
     "data": {
      "text/html": [
       "<div>\n",
       "<style scoped>\n",
       "    .dataframe tbody tr th:only-of-type {\n",
       "        vertical-align: middle;\n",
       "    }\n",
       "\n",
       "    .dataframe tbody tr th {\n",
       "        vertical-align: top;\n",
       "    }\n",
       "\n",
       "    .dataframe thead th {\n",
       "        text-align: right;\n",
       "    }\n",
       "</style>\n",
       "<table border=\"1\" class=\"dataframe\">\n",
       "  <thead>\n",
       "    <tr style=\"text-align: right;\">\n",
       "      <th></th>\n",
       "      <th>URL_ID</th>\n",
       "      <th>URL</th>\n",
       "      <th>POSITIVE SCORE</th>\n",
       "      <th>NEGATIVE SCORE</th>\n",
       "      <th>POLARITY SCORE</th>\n",
       "      <th>SUBJECTIVITY SCORE</th>\n",
       "      <th>AVG SENTENCE LENGTH</th>\n",
       "      <th>PERCENTAGE OF COMPLEX WORDS</th>\n",
       "      <th>FOG INDEX</th>\n",
       "      <th>AVG NUMBER OF WORDS PER SENTENCE</th>\n",
       "      <th>COMPLEX WORD COUNT</th>\n",
       "      <th>WORD COUNT</th>\n",
       "      <th>SYLLABLE PER WORD</th>\n",
       "      <th>PERSONAL PRONOUNS</th>\n",
       "      <th>AVG WORD LENGTH</th>\n",
       "    </tr>\n",
       "  </thead>\n",
       "  <tbody>\n",
       "    <tr>\n",
       "      <th>0</th>\n",
       "      <td>123.0</td>\n",
       "      <td>https://insights.blackcoffer.com/rise-of-telem...</td>\n",
       "      <td>45</td>\n",
       "      <td>23</td>\n",
       "      <td>0.323529</td>\n",
       "      <td>0.069388</td>\n",
       "      <td>12.894737</td>\n",
       "      <td>0.361224</td>\n",
       "      <td>5.302385</td>\n",
       "      <td>12.894737</td>\n",
       "      <td>354.0</td>\n",
       "      <td>980</td>\n",
       "      <td>2083.0</td>\n",
       "      <td>16.0</td>\n",
       "      <td>5.220118</td>\n",
       "    </tr>\n",
       "    <tr>\n",
       "      <th>1</th>\n",
       "      <td>321.0</td>\n",
       "      <td>https://insights.blackcoffer.com/rise-of-e-hea...</td>\n",
       "      <td>38</td>\n",
       "      <td>22</td>\n",
       "      <td>0.266667</td>\n",
       "      <td>0.100671</td>\n",
       "      <td>12.416667</td>\n",
       "      <td>0.360738</td>\n",
       "      <td>5.110962</td>\n",
       "      <td>12.416667</td>\n",
       "      <td>215.0</td>\n",
       "      <td>596</td>\n",
       "      <td>1260.0</td>\n",
       "      <td>12.0</td>\n",
       "      <td>5.178672</td>\n",
       "    </tr>\n",
       "    <tr>\n",
       "      <th>2</th>\n",
       "      <td>2345.0</td>\n",
       "      <td>https://insights.blackcoffer.com/rise-of-e-hea...</td>\n",
       "      <td>15</td>\n",
       "      <td>7</td>\n",
       "      <td>0.363636</td>\n",
       "      <td>0.072607</td>\n",
       "      <td>8.416667</td>\n",
       "      <td>0.300330</td>\n",
       "      <td>3.486799</td>\n",
       "      <td>8.416667</td>\n",
       "      <td>91.0</td>\n",
       "      <td>303</td>\n",
       "      <td>597.0</td>\n",
       "      <td>4.0</td>\n",
       "      <td>5.121597</td>\n",
       "    </tr>\n",
       "    <tr>\n",
       "      <th>3</th>\n",
       "      <td>4321.0</td>\n",
       "      <td>https://insights.blackcoffer.com/rise-of-telem...</td>\n",
       "      <td>15</td>\n",
       "      <td>7</td>\n",
       "      <td>0.363636</td>\n",
       "      <td>0.072607</td>\n",
       "      <td>8.416667</td>\n",
       "      <td>0.300330</td>\n",
       "      <td>3.486799</td>\n",
       "      <td>8.416667</td>\n",
       "      <td>91.0</td>\n",
       "      <td>303</td>\n",
       "      <td>597.0</td>\n",
       "      <td>4.0</td>\n",
       "      <td>5.121597</td>\n",
       "    </tr>\n",
       "    <tr>\n",
       "      <th>4</th>\n",
       "      <td>432.0</td>\n",
       "      <td>https://insights.blackcoffer.com/rise-of-telem...</td>\n",
       "      <td>33</td>\n",
       "      <td>13</td>\n",
       "      <td>0.434783</td>\n",
       "      <td>0.116162</td>\n",
       "      <td>11.314286</td>\n",
       "      <td>0.340909</td>\n",
       "      <td>4.662078</td>\n",
       "      <td>11.314286</td>\n",
       "      <td>135.0</td>\n",
       "      <td>396</td>\n",
       "      <td>762.0</td>\n",
       "      <td>2.0</td>\n",
       "      <td>4.929799</td>\n",
       "    </tr>\n",
       "    <tr>\n",
       "      <th>...</th>\n",
       "      <td>...</td>\n",
       "      <td>...</td>\n",
       "      <td>...</td>\n",
       "      <td>...</td>\n",
       "      <td>...</td>\n",
       "      <td>...</td>\n",
       "      <td>...</td>\n",
       "      <td>...</td>\n",
       "      <td>...</td>\n",
       "      <td>...</td>\n",
       "      <td>...</td>\n",
       "      <td>...</td>\n",
       "      <td>...</td>\n",
       "      <td>...</td>\n",
       "      <td>...</td>\n",
       "    </tr>\n",
       "    <tr>\n",
       "      <th>109</th>\n",
       "      <td>50921.0</td>\n",
       "      <td>https://insights.blackcoffer.com/coronavirus-i...</td>\n",
       "      <td>29</td>\n",
       "      <td>23</td>\n",
       "      <td>0.115385</td>\n",
       "      <td>0.079148</td>\n",
       "      <td>17.289474</td>\n",
       "      <td>0.404871</td>\n",
       "      <td>7.077738</td>\n",
       "      <td>17.289474</td>\n",
       "      <td>266.0</td>\n",
       "      <td>657</td>\n",
       "      <td>1472.0</td>\n",
       "      <td>10.0</td>\n",
       "      <td>5.500917</td>\n",
       "    </tr>\n",
       "    <tr>\n",
       "      <th>110</th>\n",
       "      <td>51382.8</td>\n",
       "      <td>https://insights.blackcoffer.com/coronavirus-i...</td>\n",
       "      <td>61</td>\n",
       "      <td>32</td>\n",
       "      <td>0.311828</td>\n",
       "      <td>0.081010</td>\n",
       "      <td>15.306667</td>\n",
       "      <td>0.448606</td>\n",
       "      <td>6.302109</td>\n",
       "      <td>15.306667</td>\n",
       "      <td>515.0</td>\n",
       "      <td>1148</td>\n",
       "      <td>2691.0</td>\n",
       "      <td>1.0</td>\n",
       "      <td>5.796954</td>\n",
       "    </tr>\n",
       "    <tr>\n",
       "      <th>111</th>\n",
       "      <td>51844.6</td>\n",
       "      <td>https://insights.blackcoffer.com/what-are-the-...</td>\n",
       "      <td>54</td>\n",
       "      <td>37</td>\n",
       "      <td>0.186813</td>\n",
       "      <td>0.118490</td>\n",
       "      <td>9.721519</td>\n",
       "      <td>0.324219</td>\n",
       "      <td>4.018295</td>\n",
       "      <td>9.721519</td>\n",
       "      <td>249.0</td>\n",
       "      <td>768</td>\n",
       "      <td>1544.0</td>\n",
       "      <td>7.0</td>\n",
       "      <td>4.994290</td>\n",
       "    </tr>\n",
       "    <tr>\n",
       "      <th>112</th>\n",
       "      <td>52306.4</td>\n",
       "      <td>https://insights.blackcoffer.com/marketing-dri...</td>\n",
       "      <td>64</td>\n",
       "      <td>33</td>\n",
       "      <td>0.319588</td>\n",
       "      <td>0.097390</td>\n",
       "      <td>11.857143</td>\n",
       "      <td>0.447791</td>\n",
       "      <td>4.921974</td>\n",
       "      <td>11.857143</td>\n",
       "      <td>446.0</td>\n",
       "      <td>996</td>\n",
       "      <td>2300.0</td>\n",
       "      <td>3.0</td>\n",
       "      <td>5.527316</td>\n",
       "    </tr>\n",
       "    <tr>\n",
       "      <th>113</th>\n",
       "      <td>52768.2</td>\n",
       "      <td>https://insights.blackcoffer.com/continued-dem...</td>\n",
       "      <td>52</td>\n",
       "      <td>24</td>\n",
       "      <td>0.368421</td>\n",
       "      <td>0.086168</td>\n",
       "      <td>9.692308</td>\n",
       "      <td>0.357143</td>\n",
       "      <td>4.019780</td>\n",
       "      <td>9.692308</td>\n",
       "      <td>315.0</td>\n",
       "      <td>882</td>\n",
       "      <td>1958.0</td>\n",
       "      <td>18.0</td>\n",
       "      <td>4.913098</td>\n",
       "    </tr>\n",
       "  </tbody>\n",
       "</table>\n",
       "<p>114 rows × 15 columns</p>\n",
       "</div>"
      ],
      "text/plain": [
       "      URL_ID                                                URL  \\\n",
       "0      123.0  https://insights.blackcoffer.com/rise-of-telem...   \n",
       "1      321.0  https://insights.blackcoffer.com/rise-of-e-hea...   \n",
       "2     2345.0  https://insights.blackcoffer.com/rise-of-e-hea...   \n",
       "3     4321.0  https://insights.blackcoffer.com/rise-of-telem...   \n",
       "4      432.0  https://insights.blackcoffer.com/rise-of-telem...   \n",
       "..       ...                                                ...   \n",
       "109  50921.0  https://insights.blackcoffer.com/coronavirus-i...   \n",
       "110  51382.8  https://insights.blackcoffer.com/coronavirus-i...   \n",
       "111  51844.6  https://insights.blackcoffer.com/what-are-the-...   \n",
       "112  52306.4  https://insights.blackcoffer.com/marketing-dri...   \n",
       "113  52768.2  https://insights.blackcoffer.com/continued-dem...   \n",
       "\n",
       "     POSITIVE SCORE  NEGATIVE SCORE  POLARITY SCORE  SUBJECTIVITY SCORE  \\\n",
       "0                45              23        0.323529            0.069388   \n",
       "1                38              22        0.266667            0.100671   \n",
       "2                15               7        0.363636            0.072607   \n",
       "3                15               7        0.363636            0.072607   \n",
       "4                33              13        0.434783            0.116162   \n",
       "..              ...             ...             ...                 ...   \n",
       "109              29              23        0.115385            0.079148   \n",
       "110              61              32        0.311828            0.081010   \n",
       "111              54              37        0.186813            0.118490   \n",
       "112              64              33        0.319588            0.097390   \n",
       "113              52              24        0.368421            0.086168   \n",
       "\n",
       "     AVG SENTENCE LENGTH  PERCENTAGE OF COMPLEX WORDS  FOG INDEX  \\\n",
       "0              12.894737                     0.361224   5.302385   \n",
       "1              12.416667                     0.360738   5.110962   \n",
       "2               8.416667                     0.300330   3.486799   \n",
       "3               8.416667                     0.300330   3.486799   \n",
       "4              11.314286                     0.340909   4.662078   \n",
       "..                   ...                          ...        ...   \n",
       "109            17.289474                     0.404871   7.077738   \n",
       "110            15.306667                     0.448606   6.302109   \n",
       "111             9.721519                     0.324219   4.018295   \n",
       "112            11.857143                     0.447791   4.921974   \n",
       "113             9.692308                     0.357143   4.019780   \n",
       "\n",
       "     AVG NUMBER OF WORDS PER SENTENCE  COMPLEX WORD COUNT  WORD COUNT  \\\n",
       "0                           12.894737               354.0         980   \n",
       "1                           12.416667               215.0         596   \n",
       "2                            8.416667                91.0         303   \n",
       "3                            8.416667                91.0         303   \n",
       "4                           11.314286               135.0         396   \n",
       "..                                ...                 ...         ...   \n",
       "109                         17.289474               266.0         657   \n",
       "110                         15.306667               515.0        1148   \n",
       "111                          9.721519               249.0         768   \n",
       "112                         11.857143               446.0         996   \n",
       "113                          9.692308               315.0         882   \n",
       "\n",
       "     SYLLABLE PER WORD  PERSONAL PRONOUNS  AVG WORD LENGTH  \n",
       "0               2083.0               16.0         5.220118  \n",
       "1               1260.0               12.0         5.178672  \n",
       "2                597.0                4.0         5.121597  \n",
       "3                597.0                4.0         5.121597  \n",
       "4                762.0                2.0         4.929799  \n",
       "..                 ...                ...              ...  \n",
       "109             1472.0               10.0         5.500917  \n",
       "110             2691.0                1.0         5.796954  \n",
       "111             1544.0                7.0         4.994290  \n",
       "112             2300.0                3.0         5.527316  \n",
       "113             1958.0               18.0         4.913098  \n",
       "\n",
       "[114 rows x 15 columns]"
      ]
     },
     "execution_count": 43,
     "metadata": {},
     "output_type": "execute_result"
    }
   ],
   "source": [
    "df"
   ]
  },
  {
   "cell_type": "code",
   "execution_count": 44,
   "metadata": {},
   "outputs": [
    {
     "name": "stderr",
     "output_type": "stream",
     "text": [
      "<ipython-input-44-d414c3798bc2>:1: UserWarning: Pandas requires version '1.4.3' or newer of 'xlsxwriter' (version '1.2.9' currently installed).\n",
      "  df.to_excel(output_file, index=False)\n"
     ]
    }
   ],
   "source": [
    "df.to_excel(output_file, index=False)"
   ]
  }
 ],
 "metadata": {
  "kernelspec": {
   "display_name": "Python 3",
   "language": "python",
   "name": "python3"
  },
  "language_info": {
   "codemirror_mode": {
    "name": "ipython",
    "version": 3
   },
   "file_extension": ".py",
   "mimetype": "text/x-python",
   "name": "python",
   "nbconvert_exporter": "python",
   "pygments_lexer": "ipython3",
   "version": "3.8.3"
  }
 },
 "nbformat": 4,
 "nbformat_minor": 4
}
